{
  "nbformat": 4,
  "nbformat_minor": 0,
  "metadata": {
    "colab": {
      "provenance": []
    },
    "kernelspec": {
      "name": "python3",
      "display_name": "Python 3"
    },
    "language_info": {
      "name": "python"
    }
  },
  "cells": [
    {
      "cell_type": "code",
      "execution_count": null,
      "metadata": {
        "id": "P-cRhCG0dEgF"
      },
      "outputs": [],
      "source": [
        "import math as mt\n",
        "from scipy.stats import norm\n",
        "# Let's place this estimators into a dictionary for ease of use later\n",
        "\n",
        "baseline = {\n",
        "\t  \"active_user\": 151900,\n",
        "    \"n_superchat\": 22400,\n",
        "    \"n_click_racharge\": 1127,\n",
        "    \"n_purchase\": 846,\n",
        "    \"Retention\": 0.0462,\n",
        "    \"Click_Conversion\": 0.0346,\n",
        "    \"Click_Retention\": 0.7507\n",
        "}"
      ]
    },
    {
      "cell_type": "code",
      "source": [
        "# Scale The counts estimates\n",
        "\n",
        "baseline[\"active_user\"] = 40000\n",
        "baseline[\"n_superchat\"]=mt.ceil(baseline[\"n_superchat\"]*(40000/151900))\n",
        "baseline[\"n_click_racharge\"]=mt.ceil(baseline[\"n_click_racharge\"]*(40000/151900))\n",
        "baseline[\"n_purchase\"]=mt.ceil(baseline[\"n_purchase\"]*(40000/151900))\n",
        "baseline"
      ],
      "metadata": {
        "colab": {
          "base_uri": "https://localhost:8080/"
        },
        "id": "CtHiym-edNSQ",
        "outputId": "7bbfb5a6-c98b-4e63-ff81-bae6d884625e"
      },
      "execution_count": null,
      "outputs": [
        {
          "output_type": "execute_result",
          "data": {
            "text/plain": [
              "{'active_user': 40000,\n",
              " 'n_superchat': 5899,\n",
              " 'n_click_racharge': 297,\n",
              " 'n_purchase': 223,\n",
              " 'Retention': 0.0462,\n",
              " 'Click_Conversion': 0.0346,\n",
              " 'Click_Retention': 0.7507}"
            ]
          },
          "metadata": {},
          "execution_count": 34
        }
      ]
    },
    {
      "cell_type": "code",
      "source": [
        "CR={}\n",
        "CR[\"d_min\"]=0.01\n",
        "CR[\"p\"]=baseline[\"Click_Retention\"]\n",
        "CR[\"n\"]=baseline[\"n_click_racharge\"]\n",
        "CR[\"sd\"]=round(mt.sqrt((CR[\"p\"]*(1-CR[\"p\"]))/CR[\"n\"]),4)\n",
        "CR[\"sd\"]"
      ],
      "metadata": {
        "colab": {
          "base_uri": "https://localhost:8080/"
        },
        "id": "LhZ-tbCndNdV",
        "outputId": "d2955b5d-b434-4c69-a79c-4409f87546a5"
      },
      "execution_count": null,
      "outputs": [
        {
          "output_type": "execute_result",
          "data": {
            "text/plain": [
              "0.0251"
            ]
          },
          "metadata": {},
          "execution_count": 38
        }
      ]
    },
    {
      "cell_type": "code",
      "source": [],
      "metadata": {
        "id": "IhB7zBRR-5Zo"
      },
      "execution_count": null,
      "outputs": []
    },
    {
      "cell_type": "code",
      "source": [
        "R={}\n",
        "R[\"d_min\"]=0.01\n",
        "R[\"p\"]=baseline[\"Retention\"]\n",
        "R[\"n\"]=baseline[\"n_superchat\"]\n",
        "R[\"sd\"]=round(mt.sqrt((R[\"p\"]*(1-R[\"p\"]))/R[\"n\"]),4)\n",
        "R[\"sd\"]"
      ],
      "metadata": {
        "colab": {
          "base_uri": "https://localhost:8080/"
        },
        "id": "FYyeJy2SfSnK",
        "outputId": "540aaab1-3079-4882-a154-ba191b0c7f4f"
      },
      "execution_count": null,
      "outputs": [
        {
          "output_type": "execute_result",
          "data": {
            "text/plain": [
              "0.0027"
            ]
          },
          "metadata": {},
          "execution_count": 35
        }
      ]
    },
    {
      "cell_type": "code",
      "source": [
        "CC={}\n",
        "CC[\"d_min\"]=0.01\n",
        "CC[\"p\"]=baseline[\"Click_Conversion\"]\n",
        "CC[\"n\"]=baseline[\"n_superchat\"]\n",
        "CC[\"sd\"]=round(mt.sqrt((CC[\"p\"]*(1-CC[\"p\"]))/CC[\"n\"]),4)\n",
        "CC[\"sd\"]"
      ],
      "metadata": {
        "colab": {
          "base_uri": "https://localhost:8080/"
        },
        "id": "tbTsKP06fX9u",
        "outputId": "2f719c96-07d9-4772-91d2-bd4cc8432032"
      },
      "execution_count": null,
      "outputs": [
        {
          "output_type": "execute_result",
          "data": {
            "text/plain": [
              "0.0024"
            ]
          },
          "metadata": {},
          "execution_count": 36
        }
      ]
    },
    {
      "cell_type": "code",
      "source": [
        "def get_sds(p,d):\n",
        "    sd1=mt.sqrt(2*p*(1-p))\n",
        "    sd2=mt.sqrt(p*(1-p)+(p+d)*(1-(p+d)))\n",
        "    x=[sd1,sd2]\n",
        "    return x\n",
        "\n",
        "#Inputs: required alpha value (alpha should already fit the required test)\n",
        "#Returns: z-score for given alpha\n",
        "def get_z_score(alpha):\n",
        "    return norm.ppf(alpha)\n",
        "\n",
        "# Inputs p-baseline conversion rate which is our estimated p and d-minimum detectable change\n",
        "# Returns\n",
        "def get_sds(p,d):\n",
        "    sd1=mt.sqrt(2*p*(1-p))\n",
        "    sd2=mt.sqrt(p*(1-p)+(p+d)*(1-(p+d)))\n",
        "    sds=[sd1,sd2]\n",
        "    return sds\n",
        "\n",
        "# Inputs:sd1-sd for the baseline,sd2-sd for the expected change,alpha,beta,d-d_min,p-baseline estimate p\n",
        "# Returns: the minimum sample size required per group according to metric denominator\n",
        "def get_sampSize(sds,alpha,beta,d):\n",
        "    n=pow((get_z_score(1-alpha/2)*sds[0]+get_z_score(1-beta)*sds[1]),2)/pow(d,2)\n",
        "    return n\n"
      ],
      "metadata": {
        "id": "5_5bjIwKfcSg"
      },
      "execution_count": null,
      "outputs": []
    },
    {
      "cell_type": "code",
      "source": [
        "CR[\"d\"]=0.01\n",
        "R[\"d\"]=0.002\n",
        "CC[\"d\"]=0.002"
      ],
      "metadata": {
        "id": "OiKPnmHgfgev"
      },
      "execution_count": null,
      "outputs": []
    },
    {
      "cell_type": "code",
      "source": [
        "# Let's get an integer value for simplicity\n",
        "# Getting a nice integer value\n",
        "CR[\"SampSize\"]=round(get_sampSize(get_sds(CR[\"p\"],CR[\"d\"]),0.05,0.2,CR[\"d\"]))\n",
        "CR[\"SampSize\"]"
      ],
      "metadata": {
        "colab": {
          "base_uri": "https://localhost:8080/"
        },
        "id": "qMARpG9qfjEQ",
        "outputId": "6c9d604e-500c-41c0-cff7-d1619cfa9663"
      },
      "execution_count": null,
      "outputs": [
        {
          "output_type": "execute_result",
          "data": {
            "text/plain": [
              "29257"
            ]
          },
          "metadata": {},
          "execution_count": 46
        }
      ]
    },
    {
      "cell_type": "code",
      "source": [
        "SU[\"SampSize\"]=round(SU[\"SampSize\"]/0.07985*2)\n",
        "SU[\"SampSize\"]"
      ],
      "metadata": {
        "colab": {
          "base_uri": "https://localhost:8080/"
        },
        "id": "UyU7gTjQgPgG",
        "outputId": "01539dce-6d4c-4e4b-afa7-760be6600362"
      },
      "execution_count": null,
      "outputs": [
        {
          "output_type": "execute_result",
          "data": {
            "text/plain": [
              "595241"
            ]
          },
          "metadata": {},
          "execution_count": 27
        }
      ]
    },
    {
      "cell_type": "code",
      "source": [
        "R[\"SampSize\"]=round(get_sampSize(get_sds(R[\"p\"],R[\"d\"]),0.05,0.2,R[\"d\"]))\n",
        "R[\"SampSize\"]"
      ],
      "metadata": {
        "colab": {
          "base_uri": "https://localhost:8080/"
        },
        "id": "5ZzkJZ_NgdFO",
        "outputId": "45927c3e-2995-443b-f321-9723fc150cc8"
      },
      "execution_count": null,
      "outputs": [
        {
          "output_type": "execute_result",
          "data": {
            "text/plain": [
              "173996"
            ]
          },
          "metadata": {},
          "execution_count": 53
        }
      ]
    },
    {
      "cell_type": "code",
      "source": [
        "R[\"SampSize\"]=R[\"SampSize\"]/0.147475\n",
        "R[\"SampSize\"]"
      ],
      "metadata": {
        "colab": {
          "base_uri": "https://localhost:8080/"
        },
        "id": "sGt_u8-Ng-Bj",
        "outputId": "63252f1f-6a2a-4997-fb2f-62cf809dd169"
      },
      "execution_count": null,
      "outputs": [
        {
          "output_type": "execute_result",
          "data": {
            "text/plain": [
              "1179833.8701474827"
            ]
          },
          "metadata": {},
          "execution_count": 54
        }
      ]
    },
    {
      "cell_type": "code",
      "source": [
        "# Getting a nice integer value\n",
        "CC[\"SampSize\"]=round(get_sampSize(get_sds(CC[\"p\"],CC[\"d\"]),0.05,0.2,CC[\"d\"]))\n",
        "CC[\"SampSize\"]"
      ],
      "metadata": {
        "colab": {
          "base_uri": "https://localhost:8080/"
        },
        "id": "FoDU3BNjibIp",
        "outputId": "5c6be794-31a9-473e-dda1-99a0e31a77e5"
      },
      "execution_count": null,
      "outputs": [
        {
          "output_type": "execute_result",
          "data": {
            "text/plain": [
              "132177"
            ]
          },
          "metadata": {},
          "execution_count": 55
        }
      ]
    },
    {
      "cell_type": "code",
      "source": [
        "CC[\"SampSize\"]=CC[\"SampSize\"]/0.147475\n",
        "CC[\"SampSize\"]"
      ],
      "metadata": {
        "colab": {
          "base_uri": "https://localhost:8080/"
        },
        "id": "RerL-IzIipC3",
        "outputId": "ba9375b0-c148-4f1b-95dc-d8d483016129"
      },
      "execution_count": null,
      "outputs": [
        {
          "output_type": "execute_result",
          "data": {
            "text/plain": [
              "896267.1639260892"
            ]
          },
          "metadata": {},
          "execution_count": 56
        }
      ]
    },
    {
      "cell_type": "code",
      "source": [
        "CR[\"SampSize\"]=CR[\"SampSize\"]/0.147475/0.0462*2\n",
        "CR[\"SampSize\"]"
      ],
      "metadata": {
        "colab": {
          "base_uri": "https://localhost:8080/"
        },
        "id": "jiZjLu4I1sql",
        "outputId": "379f9c7d-e587-476d-b6a6-535354404393"
      },
      "execution_count": null,
      "outputs": [
        {
          "output_type": "execute_result",
          "data": {
            "text/plain": [
              "8588145.763938272"
            ]
          },
          "metadata": {},
          "execution_count": 47
        }
      ]
    },
    {
      "cell_type": "code",
      "source": [
        "baseline = {\n",
        "\t  \"active_user\": 151900,\n",
        "    \"n_characterhome\": 46862,\n",
        "    \"n_purchase\": 5126,\n",
        "    \"GConversion\": 0.1094\n",
        "}\n",
        "\n",
        "baseline[\"active_user\"] = 40000\n",
        "baseline[\"n_characterhome\"]=mt.ceil(baseline[\"n_characterhome\"]*(40000/151900))\n",
        "baseline[\"n_purchase\"]=mt.ceil(baseline[\"n_purchase\"]*(40000/151900))\n",
        "baseline"
      ],
      "metadata": {
        "colab": {
          "base_uri": "https://localhost:8080/"
        },
        "id": "WxDQLEve-6_9",
        "outputId": "6f7d16b0-1ff7-4d67-94f7-10e545cbf3dc"
      },
      "execution_count": null,
      "outputs": [
        {
          "output_type": "execute_result",
          "data": {
            "text/plain": [
              "{'active_user': 40000,\n",
              " 'n_characterhome': 12341,\n",
              " 'n_purchase': 1350,\n",
              " 'GConversion': 0.1094}"
            ]
          },
          "metadata": {},
          "execution_count": 6
        }
      ]
    },
    {
      "cell_type": "code",
      "source": [
        "GC={}\n",
        "GC[\"d_min\"]=0.01\n",
        "GC[\"p\"]=baseline[\"GConversion\"]\n",
        "#p is given in this case - or we could calculate it from enrollments/clicks\n",
        "GC[\"n\"]=baseline[\"n_characterhome\"]\n",
        "GC[\"sd\"]=round(mt.sqrt((GC[\"p\"]*(1-GC[\"p\"]))/GC[\"n\"]),4)\n",
        "GC[\"sd\"]"
      ],
      "metadata": {
        "id": "tH-T7uOs_Omk",
        "outputId": "9cae7b35-c5e4-4e77-fb9a-1250093af35d",
        "colab": {
          "base_uri": "https://localhost:8080/"
        }
      },
      "execution_count": null,
      "outputs": [
        {
          "output_type": "execute_result",
          "data": {
            "text/plain": [
              "0.0028"
            ]
          },
          "metadata": {},
          "execution_count": 7
        }
      ]
    }
  ]
}